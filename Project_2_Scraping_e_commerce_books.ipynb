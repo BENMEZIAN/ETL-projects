{
  "nbformat": 4,
  "nbformat_minor": 0,
  "metadata": {
    "colab": {
      "provenance": [],
      "authorship_tag": "ABX9TyMx8kTF53NCfJgN2Ipt4GG0",
      "include_colab_link": true
    },
    "kernelspec": {
      "name": "python3",
      "display_name": "Python 3"
    },
    "language_info": {
      "name": "python"
    }
  },
  "cells": [
    {
      "cell_type": "markdown",
      "metadata": {
        "id": "view-in-github",
        "colab_type": "text"
      },
      "source": [
        "<a href=\"https://colab.research.google.com/github/BENMEZIAN/ETL-projects/blob/main/Project_2_Scraping_e_commerce_books.ipynb\" target=\"_parent\"><img src=\"https://colab.research.google.com/assets/colab-badge.svg\" alt=\"Open In Colab\"/></a>"
      ]
    },
    {
      "cell_type": "code",
      "execution_count": 1,
      "metadata": {
        "colab": {
          "base_uri": "https://localhost:8080/",
          "height": 35
        },
        "id": "FifKxB9InrSa",
        "outputId": "e0dd63bc-cbad-4c2c-a960-3fe6589c0990"
      },
      "outputs": [
        {
          "output_type": "execute_result",
          "data": {
            "text/plain": [
              "'books_scraped.csv'"
            ],
            "application/vnd.google.colaboratory.intrinsic+json": {
              "type": "string"
            }
          },
          "metadata": {},
          "execution_count": 1
        }
      ],
      "source": [
        "import requests\n",
        "from bs4 import BeautifulSoup\n",
        "import pandas as pd\n",
        "from datetime import datetime\n",
        "\n",
        "# URL cible\n",
        "URL = \"http://books.toscrape.com/\"\n",
        "\n",
        "# Requête HTTP\n",
        "response = requests.get(URL)\n",
        "soup = BeautifulSoup(response.content, \"html.parser\")\n",
        "\n",
        "# Liste pour stocker les données\n",
        "books_data = []\n",
        "\n",
        "# Parcourir les livres\n",
        "for article in soup.select(\"article.product_pod\"):\n",
        "    title = article.h3.a[\"title\"]\n",
        "    price = article.select_one(\".price_color\").text.strip().lstrip('£')\n",
        "    rating = article.p[\"class\"][1]  # e.g., 'Three', 'Four'\n",
        "    availability = article.select_one(\".availability\").text.strip()\n",
        "\n",
        "    books_data.append({\n",
        "        \"title\": title,\n",
        "        \"price\": float(price),\n",
        "        \"rating\": rating,\n",
        "        \"availability\": availability,\n",
        "        \"scraped_at\": datetime.now().strftime(\"%Y-%m-%d %H:%M:%S\")\n",
        "    })\n",
        "\n",
        "# Convertir en DataFrame\n",
        "df = pd.DataFrame(books_data)\n",
        "\n",
        "# Sauvegarder dans un fichier CSV\n",
        "csv_filename = \"books_scraped.csv\"\n",
        "df.to_csv(csv_filename, index=False)\n",
        "\n",
        "csv_filename"
      ]
    }
  ]
}